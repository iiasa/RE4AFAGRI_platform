{
 "cells": [
  {
   "cell_type": "code",
   "execution_count": 1,
   "id": "429ff205-1699-4f65-8569-fe3e00c0fbf4",
   "metadata": {},
   "outputs": [
    {
     "name": "stderr",
     "output_type": "stream",
     "text": [
      "2023-02-26 19:38:48,732\t\tmatplotlib data path: C:\\ProgramData\\Anaconda3\\envs\\gep_onsset_env\\lib\\site-packages\\matplotlib\\mpl-data\n",
      "2023-02-26 19:38:48,737\t\tCONFIGDIR=C:\\Users\\irela\\.matplotlib\n",
      "2023-02-26 19:38:48,739\t\tinteractive is False\n",
      "2023-02-26 19:38:48,740\t\tplatform is win32\n",
      "2023-02-26 19:38:48,788\t\tCACHEDIR=C:\\Users\\irela\\.matplotlib\n",
      "2023-02-26 19:38:48,790\t\tUsing fontManager instance from C:\\Users\\irela\\.matplotlib\\fontlist-v330.json\n"
     ]
    }
   ],
   "source": [
    "import tkinter as tk\n",
    "from tkinter import filedialog, messagebox\n",
    "import pandas as pd\n",
    "from runner import calibration, scenario\n",
    "\n",
    "import os\n",
    "from os import listdir\n",
    "from os.path import isfile, join\n",
    "\n",
    "import geopandas as gpd\n",
    "\n",
    "import plotly\n",
    "import plotly.express as px\n",
    "import plotly.figure_factory as ff\n",
    "import matplotlib.pyplot as plt\n",
    "from matplotlib import cm\n",
    "\n",
    "#Pandas display options to show more data when DataFrames are shown in the notebook (defaults are quite limited)\n",
    "pd.options.display.max_rows = 300\n",
    "pd.options.display.max_columns = 300\n",
    "pd.options.display.precision = 5\n",
    "\n",
    "import warnings\n",
    "warnings.filterwarnings(\"ignore\", category=DeprecationWarning) \n",
    "\n",
    "#pygeos and pyogrio can speed up geopandas but can also cause package dependency conflicts - disable if conflicts occur on your system.\n",
    "#gpd.options.use_pygeos = True\n",
    "import pyogrio #Only works if (engine = \"pyogrio\") is used in geopandas .to_file() code. "
   ]
  },
  {
   "cell_type": "code",
   "execution_count": 2,
   "id": "bb8cda4c-6f74-4fb4-add0-a9d960ec941f",
   "metadata": {},
   "outputs": [],
   "source": [
    "scenarios = [\"baseline\", \"moderate_development\"]\n",
    "\n",
    "processed_input_files_directory = r\"..\\mled_processed_input_files\"\n",
    "processed_input_files_filenames = [f for f in listdir(processed_input_files_directory) if isfile(join(processed_input_files_directory, f))]\n",
    "scenario_input_files_dictionary = dict(zip(scenarios, processed_input_files_filenames))\n",
    "\n",
    "specification_files_directory = r\"..\\onsset_replication\\onsset_input_files\"\n",
    "specification_files_filenames = [f for f in listdir(specification_files_directory) if isfile(join(specification_files_directory, f))]\n",
    "scenario_specification_files_dictionary = dict(zip(scenarios, specification_files_filenames))\n",
    "\n",
    "results_folder = r'..\\results\\onsset_full_results'\n",
    "summary_folder = r'..\\results\\onsset_summary_results'\n",
    "nest_summary_folder = r'..\\results\\nest_summaries'"
   ]
  },
  {
   "cell_type": "code",
   "execution_count": 4,
   "id": "601b07e0-7619-48eb-836c-21163dc85d77",
   "metadata": {},
   "outputs": [
    {
     "data": {
      "text/plain": [
       "{'baseline': 'zambia_onsset_input_mled_demands_baseline.csv',\n",
       " 'moderate_development': 'zambia_onsset_input_mled_demands_moderate_development.csv'}"
      ]
     },
     "execution_count": 4,
     "metadata": {},
     "output_type": "execute_result"
    }
   ],
   "source": [
    "scenario_input_files_dictionary"
   ]
  },
  {
   "cell_type": "code",
   "execution_count": 5,
   "id": "070b9dbd-d2f3-4c16-91a7-b6d40f4973ba",
   "metadata": {},
   "outputs": [
    {
     "data": {
      "text/plain": [
       "{'baseline': 'zambia_onsset_specifications_calibrated_baseline.xlsx',\n",
       " 'moderate_development': 'zambia_onsset_specifications_calibrated_moderate_development.xlsx'}"
      ]
     },
     "execution_count": 5,
     "metadata": {},
     "output_type": "execute_result"
    }
   ],
   "source": [
    "scenario_specification_files_dictionary"
   ]
  },
  {
   "cell_type": "code",
   "execution_count": 6,
   "id": "45eab8b7-6958-416d-8d70-4f0bf505f437",
   "metadata": {},
   "outputs": [
    {
     "name": "stdout",
     "output_type": "stream",
     "text": [
      "Running MLED scenario 'baseline'...\n",
      "OnSSET Scenario: 1\n",
      "Total electrification rate achieved in 2040 is 92.7 %\n",
      "Total electrification rate achieved in 2060 is 99.8 %\n"
     ]
    },
    {
     "name": "stderr",
     "output_type": "stream",
     "text": [
      "2023-02-26 19:41:55,038\t\tFinished\n"
     ]
    },
    {
     "name": "stdout",
     "output_type": "stream",
     "text": [
      "Running MLED scenario 'moderate_development'...\n",
      "OnSSET Scenario: 1\n",
      "Total electrification rate achieved in 2040 is 96.4 %\n",
      "Total electrification rate achieved in 2060 is 99.9 %\n"
     ]
    },
    {
     "name": "stderr",
     "output_type": "stream",
     "text": [
      "2023-02-26 19:45:00,603\t\tFinished\n"
     ]
    }
   ],
   "source": [
    "for mled_scenario in scenarios:\n",
    "    print(\"Running MLED scenario '\" + mled_scenario +\"'...\")\n",
    "    specs_path = os.path.join(specification_files_directory, scenario_specification_files_dictionary[mled_scenario])\n",
    "\n",
    "    specs = pd.read_excel(specs_path, index_col=0)\n",
    "\n",
    "    calibrated_csv_path = os.path.join(processed_input_files_directory, scenario_input_files_dictionary[mled_scenario])\n",
    "\n",
    "    scenario(specs_path, calibrated_csv_path, results_folder, summary_folder, mled_scenario)"
   ]
  },
  {
   "cell_type": "code",
   "execution_count": 7,
   "id": "9a104fc4-a2a2-44ab-b60e-660d10aa2f64",
   "metadata": {},
   "outputs": [
    {
     "data": {
      "text/plain": [
       "{'baseline': 'baseline_zm-2-0_0_0_0_0_0.csv',\n",
       " 'moderate_development': 'moderate_development_zm-2-0_0_0_0_0_0.csv'}"
      ]
     },
     "execution_count": 7,
     "metadata": {},
     "output_type": "execute_result"
    }
   ],
   "source": [
    "output_files_directory = results_folder\n",
    "output_files_filenames = [f for f in listdir(output_files_directory) if isfile(join(output_files_directory, f))]\n",
    "scenario_output_files_dictionary = dict(zip(scenarios, output_files_filenames))\n",
    "scenario_output_files_dictionary"
   ]
  },
  {
   "cell_type": "code",
   "execution_count": 13,
   "id": "e44f76c3-7886-43d1-a449-bbf6ed93f187",
   "metadata": {},
   "outputs": [],
   "source": [
    "full_summary = pd.DataFrame()\n",
    "\n",
    "for mled_scenario in scenarios:\n",
    "    \n",
    "    nest = pd.read_csv(os.path.join(output_files_directory, scenario_output_files_dictionary[mled_scenario]))\n",
    "\n",
    "    nest[\"BCU\"] = nest[\"BCU\"].astype(\"int\")\n",
    "    nest[[\"BCU\",\"FinalElecCode2020\",\"isurban_2020\", \"FinalElecCode2040\",\"isurban_future_2040\", \"FinalElecCode2060\",\"isurban_future_2060\"]] = nest[[\"BCU\",\"FinalElecCode2020\",\"isurban_2020\", \"FinalElecCode2040\",\"isurban_future_2040\", \"FinalElecCode2060\",\"isurban_future_2060\"]].astype(\"category\")\n",
    "    nest[\"isurban_future_2020\"] = nest[\"isurban_2020\"]\n",
    "\n",
    "    nest.FinalElecCode2020 = nest.FinalElecCode2020.cat.set_categories([1,2,3,5,6,7,99])\n",
    "    nest.FinalElecCode2040 = nest.FinalElecCode2040.cat.set_categories([1,2,3,5,6,7,99])\n",
    "    nest.FinalElecCode2060 = nest.FinalElecCode2060.cat.set_categories([1,2,3,5,6,7,99])\n",
    "\n",
    "    nest.FinalElecCode2020 = nest.FinalElecCode2020.cat.rename_categories({1: \"grid_existing\", 2: \"grid_new\", 3: \"sa_pv\", 5: \"mg_pv_hybrid\", 6: \"mg_wind_hybrid\", 7: \"mg_hydro\", 99: \"unelectrified\"})\n",
    "    nest.FinalElecCode2040 = nest.FinalElecCode2040.cat.rename_categories({1: \"grid_existing\", 2: \"grid_new\", 3: \"sa_pv\", 5: \"mg_pv_hybrid\", 6: \"mg_wind_hybrid\", 7: \"mg_hydro\", 99: \"unelectrified\"})\n",
    "    nest.FinalElecCode2060 = nest.FinalElecCode2060.cat.rename_categories({1: \"grid_existing\", 2: \"grid_new\", 3: \"sa_pv\", 5: \"mg_pv_hybrid\", 6: \"mg_wind_hybrid\", 7: \"mg_hydro\", 99: \"unelectrified\"})\n",
    "\n",
    "    nest.isurban_2020 = nest.isurban_2020.cat.rename_categories({0: \"rural\", 1: \"urban\"})\n",
    "    nest.isurban_future_2020 = nest.isurban_future_2020.cat.rename_categories({0: \"rural\", 1: \"urban\"})\n",
    "    nest.isurban_future_2040 = nest.isurban_future_2040.cat.rename_categories({0: \"rural\", 1: \"urban\"})\n",
    "    nest.isurban_future_2060 = nest.isurban_future_2060.cat.rename_categories({0: \"rural\", 1: \"urban\"})\n",
    "\n",
    "    years = [2020, 2040, 2060]\n",
    "    scenario_summary = pd.DataFrame()\n",
    "\n",
    "    for year in years:\n",
    "        yearly_summary = ((nest.groupby([\"BCU\",\"FinalElecCode\"+str(year),\"isurban_future_\"+str(year)])[\"tot_dem_\"+str(year)].sum()/10**6).round(2)).to_frame().reset_index()\n",
    "        yearly_summary = yearly_summary.set_axis([\"BCU\", \"tec\", \"urb_rur\",\"value\"], axis = 1)\n",
    "        yearly_summary[\"year\"] = year\n",
    "        yearly_summary[\"scenario\"] = mled_scenario\n",
    "        yearly_summary[\"unit\"] = \"GWh\"\n",
    "        yearly_summary.insert(yearly_summary.shape[1]-1, \"value\", yearly_summary.pop(\"value\"))\n",
    "\n",
    "        scenario_summary = pd.concat([scenario_summary, yearly_summary])\n",
    "        \n",
    "    full_summary = pd.concat([full_summary, scenario_summary])\n",
    "    \n",
    "full_summary.to_csv(os.path.join(nest_summary_folder, \"energy_allocation_results_for_nest.csv\"), index = False)"
   ]
  },
  {
   "cell_type": "code",
   "execution_count": 14,
   "id": "86dd44dd-bb42-43f4-8055-b8ef05d48874",
   "metadata": {},
   "outputs": [
    {
     "data": {
      "text/html": [
       "<div>\n",
       "<style scoped>\n",
       "    .dataframe tbody tr th:only-of-type {\n",
       "        vertical-align: middle;\n",
       "    }\n",
       "\n",
       "    .dataframe tbody tr th {\n",
       "        vertical-align: top;\n",
       "    }\n",
       "\n",
       "    .dataframe thead th {\n",
       "        text-align: right;\n",
       "    }\n",
       "</style>\n",
       "<table border=\"1\" class=\"dataframe\">\n",
       "  <thead>\n",
       "    <tr style=\"text-align: right;\">\n",
       "      <th></th>\n",
       "      <th>BCU</th>\n",
       "      <th>tec</th>\n",
       "      <th>urb_rur</th>\n",
       "      <th>year</th>\n",
       "      <th>scenario</th>\n",
       "      <th>unit</th>\n",
       "      <th>value</th>\n",
       "    </tr>\n",
       "  </thead>\n",
       "  <tbody>\n",
       "    <tr>\n",
       "      <th>0</th>\n",
       "      <td>1</td>\n",
       "      <td>grid_existing</td>\n",
       "      <td>rural</td>\n",
       "      <td>2020</td>\n",
       "      <td>baseline</td>\n",
       "      <td>GWh</td>\n",
       "      <td>5.19</td>\n",
       "    </tr>\n",
       "    <tr>\n",
       "      <th>1</th>\n",
       "      <td>1</td>\n",
       "      <td>grid_existing</td>\n",
       "      <td>urban</td>\n",
       "      <td>2020</td>\n",
       "      <td>baseline</td>\n",
       "      <td>GWh</td>\n",
       "      <td>0.00</td>\n",
       "    </tr>\n",
       "    <tr>\n",
       "      <th>2</th>\n",
       "      <td>1</td>\n",
       "      <td>grid_new</td>\n",
       "      <td>rural</td>\n",
       "      <td>2020</td>\n",
       "      <td>baseline</td>\n",
       "      <td>GWh</td>\n",
       "      <td>0.00</td>\n",
       "    </tr>\n",
       "    <tr>\n",
       "      <th>3</th>\n",
       "      <td>1</td>\n",
       "      <td>grid_new</td>\n",
       "      <td>urban</td>\n",
       "      <td>2020</td>\n",
       "      <td>baseline</td>\n",
       "      <td>GWh</td>\n",
       "      <td>0.00</td>\n",
       "    </tr>\n",
       "    <tr>\n",
       "      <th>4</th>\n",
       "      <td>1</td>\n",
       "      <td>sa_pv</td>\n",
       "      <td>rural</td>\n",
       "      <td>2020</td>\n",
       "      <td>baseline</td>\n",
       "      <td>GWh</td>\n",
       "      <td>0.00</td>\n",
       "    </tr>\n",
       "    <tr>\n",
       "      <th>...</th>\n",
       "      <td>...</td>\n",
       "      <td>...</td>\n",
       "      <td>...</td>\n",
       "      <td>...</td>\n",
       "      <td>...</td>\n",
       "      <td>...</td>\n",
       "      <td>...</td>\n",
       "    </tr>\n",
       "    <tr>\n",
       "      <th>331</th>\n",
       "      <td>24</td>\n",
       "      <td>mg_wind_hybrid</td>\n",
       "      <td>urban</td>\n",
       "      <td>2060</td>\n",
       "      <td>moderate_development</td>\n",
       "      <td>GWh</td>\n",
       "      <td>0.00</td>\n",
       "    </tr>\n",
       "    <tr>\n",
       "      <th>332</th>\n",
       "      <td>24</td>\n",
       "      <td>mg_hydro</td>\n",
       "      <td>rural</td>\n",
       "      <td>2060</td>\n",
       "      <td>moderate_development</td>\n",
       "      <td>GWh</td>\n",
       "      <td>0.00</td>\n",
       "    </tr>\n",
       "    <tr>\n",
       "      <th>333</th>\n",
       "      <td>24</td>\n",
       "      <td>mg_hydro</td>\n",
       "      <td>urban</td>\n",
       "      <td>2060</td>\n",
       "      <td>moderate_development</td>\n",
       "      <td>GWh</td>\n",
       "      <td>0.00</td>\n",
       "    </tr>\n",
       "    <tr>\n",
       "      <th>334</th>\n",
       "      <td>24</td>\n",
       "      <td>unelectrified</td>\n",
       "      <td>rural</td>\n",
       "      <td>2060</td>\n",
       "      <td>moderate_development</td>\n",
       "      <td>GWh</td>\n",
       "      <td>0.76</td>\n",
       "    </tr>\n",
       "    <tr>\n",
       "      <th>335</th>\n",
       "      <td>24</td>\n",
       "      <td>unelectrified</td>\n",
       "      <td>urban</td>\n",
       "      <td>2060</td>\n",
       "      <td>moderate_development</td>\n",
       "      <td>GWh</td>\n",
       "      <td>0.00</td>\n",
       "    </tr>\n",
       "  </tbody>\n",
       "</table>\n",
       "<p>2016 rows × 7 columns</p>\n",
       "</div>"
      ],
      "text/plain": [
       "    BCU             tec urb_rur  year              scenario unit  value\n",
       "0     1   grid_existing   rural  2020              baseline  GWh   5.19\n",
       "1     1   grid_existing   urban  2020              baseline  GWh   0.00\n",
       "2     1        grid_new   rural  2020              baseline  GWh   0.00\n",
       "3     1        grid_new   urban  2020              baseline  GWh   0.00\n",
       "4     1           sa_pv   rural  2020              baseline  GWh   0.00\n",
       "..   ..             ...     ...   ...                   ...  ...    ...\n",
       "331  24  mg_wind_hybrid   urban  2060  moderate_development  GWh   0.00\n",
       "332  24        mg_hydro   rural  2060  moderate_development  GWh   0.00\n",
       "333  24        mg_hydro   urban  2060  moderate_development  GWh   0.00\n",
       "334  24   unelectrified   rural  2060  moderate_development  GWh   0.76\n",
       "335  24   unelectrified   urban  2060  moderate_development  GWh   0.00\n",
       "\n",
       "[2016 rows x 7 columns]"
      ]
     },
     "execution_count": 14,
     "metadata": {},
     "output_type": "execute_result"
    }
   ],
   "source": [
    "full_summary"
   ]
  },
  {
   "cell_type": "code",
   "execution_count": 17,
   "id": "14e9c214-3d90-43f3-806a-254fee5bb53f",
   "metadata": {},
   "outputs": [
    {
     "data": {
      "text/html": [
       "<div>\n",
       "<style scoped>\n",
       "    .dataframe tbody tr th:only-of-type {\n",
       "        vertical-align: middle;\n",
       "    }\n",
       "\n",
       "    .dataframe tbody tr th {\n",
       "        vertical-align: top;\n",
       "    }\n",
       "\n",
       "    .dataframe thead th {\n",
       "        text-align: right;\n",
       "    }\n",
       "</style>\n",
       "<table border=\"1\" class=\"dataframe\">\n",
       "  <thead>\n",
       "    <tr style=\"text-align: right;\">\n",
       "      <th></th>\n",
       "      <th></th>\n",
       "      <th>value</th>\n",
       "    </tr>\n",
       "    <tr>\n",
       "      <th>scenario</th>\n",
       "      <th>year</th>\n",
       "      <th></th>\n",
       "    </tr>\n",
       "  </thead>\n",
       "  <tbody>\n",
       "    <tr>\n",
       "      <th rowspan=\"3\" valign=\"top\">baseline</th>\n",
       "      <th>2020</th>\n",
       "      <td>13117.78</td>\n",
       "    </tr>\n",
       "    <tr>\n",
       "      <th>2040</th>\n",
       "      <td>46546.59</td>\n",
       "    </tr>\n",
       "    <tr>\n",
       "      <th>2060</th>\n",
       "      <td>75083.48</td>\n",
       "    </tr>\n",
       "    <tr>\n",
       "      <th rowspan=\"3\" valign=\"top\">moderate_development</th>\n",
       "      <th>2020</th>\n",
       "      <td>13158.35</td>\n",
       "    </tr>\n",
       "    <tr>\n",
       "      <th>2040</th>\n",
       "      <td>46660.08</td>\n",
       "    </tr>\n",
       "    <tr>\n",
       "      <th>2060</th>\n",
       "      <td>75418.85</td>\n",
       "    </tr>\n",
       "  </tbody>\n",
       "</table>\n",
       "</div>"
      ],
      "text/plain": [
       "                              value\n",
       "scenario             year          \n",
       "baseline             2020  13117.78\n",
       "                     2040  46546.59\n",
       "                     2060  75083.48\n",
       "moderate_development 2020  13158.35\n",
       "                     2040  46660.08\n",
       "                     2060  75418.85"
      ]
     },
     "execution_count": 17,
     "metadata": {},
     "output_type": "execute_result"
    }
   ],
   "source": [
    "full_summary.groupby([\"scenario\",\"year\"]).value.sum().to_frame()"
   ]
  },
  {
   "cell_type": "code",
   "execution_count": null,
   "id": "190e9428-f15c-4147-8a1f-174660c03a55",
   "metadata": {},
   "outputs": [],
   "source": []
  }
 ],
 "metadata": {
  "kernelspec": {
   "display_name": "Python [conda env:gep_onsset_env]",
   "language": "python",
   "name": "conda-env-gep_onsset_env-py"
  },
  "language_info": {
   "codemirror_mode": {
    "name": "ipython",
    "version": 3
   },
   "file_extension": ".py",
   "mimetype": "text/x-python",
   "name": "python",
   "nbconvert_exporter": "python",
   "pygments_lexer": "ipython3",
   "version": "3.9.16"
  }
 },
 "nbformat": 4,
 "nbformat_minor": 5
}

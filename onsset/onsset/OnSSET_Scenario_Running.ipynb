{
 "cells": [
  {
   "cell_type": "code",
   "execution_count": 1,
   "id": "429ff205-1699-4f65-8569-fe3e00c0fbf4",
   "metadata": {},
   "outputs": [],
   "source": [
    "import pandas as pd\n",
    "import geopandas as gpd\n",
    "\n",
    "from runner import calibration, scenario\n",
    "\n",
    "import os\n",
    "from os import listdir\n",
    "from os.path import isfile, join\n",
    "import pathlib\n",
    "\n",
    "#Pandas display options to show more data when DataFrames are shown in the notebook (defaults are quite limited)\n",
    "pd.options.display.max_rows = 300\n",
    "pd.options.display.max_columns = 300\n",
    "pd.options.display.precision = 5\n",
    "\n",
    "#pygeos and pyogrio can speed up geopandas but can also cause package dependency conflicts - disable if conflicts occur on your system.\n",
    "#gpd.options.use_pygeos = True\n",
    "import pyogrio #Only works if (engine = \"pyogrio\") is used in geopandas .to_file() code. "
   ]
  },
  {
   "cell_type": "code",
   "execution_count": 2,
   "id": "bb8cda4c-6f74-4fb4-add0-a9d960ec941f",
   "metadata": {},
   "outputs": [],
   "source": [
    "scenarios = [\"baseline\", \"moderate_development\", \"sustainable_development\"]\n",
    "\n",
    "processed_input_files_directory = r\"..\\mled_processed_input_files\"\n",
    "processed_input_files_filenames = list(pathlib.Path(processed_input_files_directory).glob('*.csv'))\n",
    "scenario_input_files_dictionary = dict(zip(scenarios, processed_input_files_filenames))\n",
    "\n",
    "specification_files_directory = r\"..\\onsset_replication\\onsset_input_files\"\n",
    "specification_files_filenames = list(pathlib.Path(specification_files_directory).glob('*.xlsx'))\n",
    "scenario_specification_files_dictionary = dict(zip(scenarios, specification_files_filenames))\n",
    "\n",
    "results_folder = r'..\\results\\onsset_full_results'\n",
    "summary_folder = r'..\\results\\onsset_summary_results'\n",
    "nest_summary_folder = r'..\\results\\nest_summaries'"
   ]
  },
  {
   "cell_type": "code",
   "execution_count": null,
   "id": "45eab8b7-6958-416d-8d70-4f0bf505f437",
   "metadata": {},
   "outputs": [
    {
     "name": "stdout",
     "output_type": "stream",
     "text": [
      "Running MLED scenario 'baseline'...\n",
      "OnSSET Scenario: 1\n",
      "Total electrification rate achieved in 2040 is 92.7 %\n",
      "Total electrification rate achieved in 2060 is 99.8 %\n"
     ]
    },
    {
     "name": "stderr",
     "output_type": "stream",
     "text": [
      "2023-02-27 11:37:44,204\t\tFinished\n"
     ]
    },
    {
     "name": "stdout",
     "output_type": "stream",
     "text": [
      "Running MLED scenario 'moderate_development'...\n",
      "OnSSET Scenario: 1\n"
     ]
    }
   ],
   "source": [
    "for mled_scenario in scenarios:\n",
    "    print(\"Running MLED scenario '\" + mled_scenario +\"'...\")\n",
    "    specs_path = os.path.join(scenario_specification_files_dictionary[mled_scenario])\n",
    "\n",
    "    specs = pd.read_excel(specs_path, index_col=0)\n",
    "\n",
    "    calibrated_csv_path = os.path.join(scenario_input_files_dictionary[mled_scenario])\n",
    "\n",
    "    scenario(specs_path, calibrated_csv_path, results_folder, summary_folder, mled_scenario)"
   ]
  },
  {
   "cell_type": "code",
   "execution_count": null,
   "id": "9a104fc4-a2a2-44ab-b60e-660d10aa2f64",
   "metadata": {},
   "outputs": [],
   "source": [
    "output_files_directory = results_folder\n",
    "output_files_filenames = list(pathlib.Path(output_files_directory).glob('*.csv'))\n",
    "scenario_output_files_dictionary = dict(zip(scenarios, output_files_filenames))"
   ]
  },
  {
   "cell_type": "code",
   "execution_count": null,
   "id": "e44f76c3-7886-43d1-a449-bbf6ed93f187",
   "metadata": {},
   "outputs": [],
   "source": [
    "full_summary = pd.DataFrame()\n",
    "\n",
    "for mled_scenario in scenarios:\n",
    "    \n",
    "    nest = pd.read_csv(os.path.join(scenario_output_files_dictionary[mled_scenario]))\n",
    "\n",
    "    nest[\"BCU\"] = nest[\"BCU\"].astype(\"int\")\n",
    "    nest[[\"BCU\",\"FinalElecCode2020\",\"isurban_2020\", \"FinalElecCode2040\",\"isurban_future_2040\", \"FinalElecCode2060\",\"isurban_future_2060\"]] = nest[[\"BCU\",\"FinalElecCode2020\",\"isurban_2020\", \"FinalElecCode2040\",\"isurban_future_2040\", \"FinalElecCode2060\",\"isurban_future_2060\"]].astype(\"category\")\n",
    "    nest[\"isurban_future_2020\"] = nest[\"isurban_2020\"]\n",
    "\n",
    "    nest.FinalElecCode2020 = nest.FinalElecCode2020.cat.set_categories([1,2,3,5,6,7,99])\n",
    "    nest.FinalElecCode2040 = nest.FinalElecCode2040.cat.set_categories([1,2,3,5,6,7,99])\n",
    "    nest.FinalElecCode2060 = nest.FinalElecCode2060.cat.set_categories([1,2,3,5,6,7,99])\n",
    "\n",
    "    nest.FinalElecCode2020 = nest.FinalElecCode2020.cat.rename_categories({1: \"grid_existing\", 2: \"grid_new\", 3: \"sa_pv\", 5: \"mg_pv_hybrid\", 6: \"mg_wind_hybrid\", 7: \"mg_hydro\", 99: \"unelectrified\"})\n",
    "    nest.FinalElecCode2040 = nest.FinalElecCode2040.cat.rename_categories({1: \"grid_existing\", 2: \"grid_new\", 3: \"sa_pv\", 5: \"mg_pv_hybrid\", 6: \"mg_wind_hybrid\", 7: \"mg_hydro\", 99: \"unelectrified\"})\n",
    "    nest.FinalElecCode2060 = nest.FinalElecCode2060.cat.rename_categories({1: \"grid_existing\", 2: \"grid_new\", 3: \"sa_pv\", 5: \"mg_pv_hybrid\", 6: \"mg_wind_hybrid\", 7: \"mg_hydro\", 99: \"unelectrified\"})\n",
    "\n",
    "    nest.isurban_2020 = nest.isurban_2020.cat.rename_categories({0: \"rural\", 1: \"urban\"})\n",
    "    nest.isurban_future_2020 = nest.isurban_future_2020.cat.rename_categories({0: \"rural\", 1: \"urban\"})\n",
    "    nest.isurban_future_2040 = nest.isurban_future_2040.cat.rename_categories({0: \"rural\", 1: \"urban\"})\n",
    "    nest.isurban_future_2060 = nest.isurban_future_2060.cat.rename_categories({0: \"rural\", 1: \"urban\"})\n",
    "\n",
    "    years = [2020, 2040, 2060]\n",
    "    scenario_summary = pd.DataFrame()\n",
    "\n",
    "    for year in years:\n",
    "        yearly_summary = ((nest.groupby([\"BCU\",\"FinalElecCode\"+str(year),\"isurban_future_\"+str(year)])[\"tot_dem_\"+str(year)].sum()/10**6).round(2)).to_frame().reset_index()\n",
    "        yearly_summary = yearly_summary.set_axis([\"BCU\", \"tec\", \"urb_rur\",\"value\"], axis = 1)\n",
    "        yearly_summary[\"year\"] = year\n",
    "        yearly_summary[\"scenario\"] = mled_scenario\n",
    "        yearly_summary[\"unit\"] = \"GWh\"\n",
    "        yearly_summary.insert(yearly_summary.shape[1]-1, \"value\", yearly_summary.pop(\"value\"))\n",
    "\n",
    "        scenario_summary = pd.concat([scenario_summary, yearly_summary])\n",
    "        \n",
    "    full_summary = pd.concat([full_summary, scenario_summary])\n",
    "    \n",
    "full_summary.to_csv(os.path.join(nest_summary_folder, \"energy_allocation_results_for_nest.csv\"), index = False)"
   ]
  },
  {
   "cell_type": "code",
   "execution_count": null,
   "id": "86dd44dd-bb42-43f4-8055-b8ef05d48874",
   "metadata": {},
   "outputs": [],
   "source": [
    "full_summary"
   ]
  },
  {
   "cell_type": "code",
   "execution_count": null,
   "id": "c7138259-be26-4bc3-a6a8-426fb2913f84",
   "metadata": {},
   "outputs": [],
   "source": []
  }
 ],
 "metadata": {
  "kernelspec": {
   "display_name": "Python [conda env:gep_onsset_env]",
   "language": "python",
   "name": "conda-env-gep_onsset_env-py"
  },
  "language_info": {
   "codemirror_mode": {
    "name": "ipython",
    "version": 3
   },
   "file_extension": ".py",
   "mimetype": "text/x-python",
   "name": "python",
   "nbconvert_exporter": "python",
   "pygments_lexer": "ipython3",
   "version": "3.9.16"
  }
 },
 "nbformat": 4,
 "nbformat_minor": 5
}

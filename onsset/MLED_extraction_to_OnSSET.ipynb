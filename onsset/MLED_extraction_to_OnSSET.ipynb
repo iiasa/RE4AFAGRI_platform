{
 "cells": [
  {
   "cell_type": "code",
   "execution_count": 1,
   "id": "ff9c35e3-2a30-4f9c-a4d4-f94566be2c4f",
   "metadata": {
    "tags": []
   },
   "outputs": [],
   "source": [
    "import pandas as pd\n",
    "import geopandas as gpd\n",
    "\n",
    "import os\n",
    "from os import listdir\n",
    "from os.path import isfile, join\n",
    "\n",
    "import plotly\n",
    "import plotly.express as px\n",
    "import plotly.figure_factory as ff\n",
    "import matplotlib.pyplot as plt\n",
    "from matplotlib import cm\n",
    "\n",
    "#Pandas display options to show more data when DataFrames are shown in the notebook (defaults are quite limited)\n",
    "pd.options.display.max_rows = 300\n",
    "pd.options.display.max_columns = 300\n",
    "pd.options.display.precision = 5\n",
    "\n",
    "#pygeos and pyogrio can speed up geopandas but can also cause package dependency conflicts - disable if conflicts occur on your system.\n",
    "#gpd.options.use_pygeos = True\n",
    "import pyogrio #Only works if (engine = \"pyogrio\") is used in geopandas .to_file() code. "
   ]
  },
  {
   "cell_type": "code",
   "execution_count": 2,
   "id": "fd252149-c96e-41da-aa9b-1cbeb70077b0",
   "metadata": {},
   "outputs": [],
   "source": [
    "years = [2020, 2030, 2040, 2050, 2060]\n",
    "scenarios = [\"baseline\", \"moderate_development\"]\n",
    "\n",
    "mled_scenario_directory = r\"onsset_replication/mled/onsset_clusters\"\n",
    "mled_scenario_filenames = [f for f in listdir(mled_scenario_directory) if isfile(join(mled_scenario_directory, f))]\n",
    "scenario_dictionary = dict(zip(scenarios, mled_scenario_filenames))\n",
    "\n",
    "output_directory_for_onsset = r\"mled_processed_input_files\""
   ]
  },
  {
   "cell_type": "code",
   "execution_count": 4,
   "id": "111491a1-23f4-4134-ba70-4168d904bd6d",
   "metadata": {},
   "outputs": [],
   "source": [
    "#import the clusters file data including all of the related geospatial data etc. This is then merged with the MLED demand data.\n",
    "clusters_geo = pd.read_csv(\"onsset_replication/clusters/zambia_onsset_input_calibrated.csv\")"
   ]
  },
  {
   "cell_type": "code",
   "execution_count": 6,
   "id": "8f00a32a-7e0b-4851-977b-c1d47ccbe4e4",
   "metadata": {
    "tags": []
   },
   "outputs": [
    {
     "name": "stdout",
     "output_type": "stream",
     "text": [
      "MLED Scenario processing into OnSSET input files for: ' baseline '...\n",
      "Total Demand--2020:  13.12\n",
      "Total Demand--2030:  40.47\n",
      "Total Demand--2040:  46.55\n",
      "Total Demand--2050:  58.27\n",
      "Total Demand--2060:  75.08\n",
      "Per Capita Demand--2020:  1340.96\n",
      "Per Capita Demand--2030:  2060.43\n",
      "Per Capita Demand--2040:  2172.49\n",
      "Per Capita Demand--2050:  2336.74\n",
      "Per Capita Demand--2060:  2636.78\n",
      "Population--2020: 19255577.0\n",
      "Population--2030: 24179800.65\n",
      "Population--2040: 29271171.76\n",
      "Population--2050: 34015018.55\n",
      "Population--2060: 38279939.47\n",
      "MLED Scenario processing into OnSSET input files for: ' moderate_development '...\n",
      "Total Demand--2020:  13.16\n",
      "Total Demand--2030:  40.54\n",
      "Total Demand--2040:  46.66\n",
      "Total Demand--2050:  58.46\n",
      "Total Demand--2060:  75.42\n",
      "Per Capita Demand--2020:  1349.56\n",
      "Per Capita Demand--2030:  2071.5\n",
      "Per Capita Demand--2040:  2187.25\n",
      "Per Capita Demand--2050:  2357.52\n",
      "Per Capita Demand--2060:  2667.59\n",
      "Population--2020: 19255577.0\n",
      "Population--2030: 24179800.65\n",
      "Population--2040: 29271171.76\n",
      "Population--2050: 34015018.55\n",
      "Population--2060: 38279939.47\n"
     ]
    }
   ],
   "source": [
    "#Note: This can take some time. Will also be slower if pyogrio is not used. Will likely need more than 8GB of RAM.\n",
    "\n",
    "for mled_scenario in scenarios:\n",
    "\n",
    "    gdf = gpd.read_file(os.path.join(mled_scenario_directory, scenario_dictionary[mled_scenario]), engine = \"pyogrio\")\n",
    "    \n",
    "    print(\"MLED Scenario processing into OnSSET input files for: '\", mled_scenario,\"'...\")\n",
    "    \n",
    "    for year in years:\n",
    "        gdf[\"tot_dem_per_capita_\"+str(year)] = gdf[\"tot_dem_\"+str(year)] / gdf[\"population_\"+str(year)]\n",
    "    \n",
    "    for year in years:\n",
    "        print(\"Total Demand--\"+str(year)+\": \",(gdf[\"tot_dem_\"+str(year)].sum()/10**9).round(2))\n",
    "    \n",
    "    for year in years:\n",
    "        print(\"Per Capita Demand--\"+str(year)+\": \", (gdf[\"tot_dem_per_capita_\"+str(year)].mean()).round(2))\n",
    "    \n",
    "    for year in years:\n",
    "        print(\"Population--\"+str(year)+\": \"+str((gdf[\"population_\"+str(year)].sum()).round(2)))\n",
    "    \n",
    "    gdf.drop(columns = \"geometry\", inplace = True)\n",
    "    \n",
    "    df = pd.DataFrame(gdf[gdf.columns[-11:]]) #add only newly calculated columns to a pandas dataframe for selected export\n",
    "    \n",
    "    df[\"id\"] = gdf[\"id\"].astype(\"int\")\n",
    "    \n",
    "    df[['isurban', 'isurban_2020', 'isurban_future_2030', 'isurban_future_2040', 'isurban_future_2050', 'isurban_future_2060']] = gdf[['isurban', 'isurban_2020', 'isurban_future_2030', 'isurban_future_2040', 'isurban_future_2050', 'isurban_future_2060']]\n",
    "    df[[\"population_2020\",\"population_2030\",\"population_2040\",\"population_2050\",\"population_2060\"]] = gdf[[\"population_2020\",\"population_2030\",\"population_2040\",\"population_2050\",\"population_2060\"]]\n",
    "    df[[\"gdp_capita_2020\",\"gdp_capita_2030\",\"gdp_capita_2040\",\"gdp_capita_2050\",\"gdp_capita_2060\"]] = gdf[[\"gdp_capita_2020\",\"gdp_capita_2030\",\"gdp_capita_2040\",\"gdp_capita_2050\",\"gdp_capita_2060\"]]\n",
    "    \n",
    "    df.isurban = df.isurban.replace(1,2)\n",
    "    \n",
    "    mled = df\n",
    "    \n",
    "    onsset = pd.merge(clusters_geo, mled, on = \"id\", how = \"right\")\n",
    "    \n",
    "    #Calculation and conditioning of variables used in OnSSET for custom demand levels\n",
    "    onsset[\"IsUrban\"] = onsset[\"isurban\"]\n",
    "    onsset[\"PerCapitaDemand\"] = 0\n",
    "    onsset[\"GDP\"] = 0\n",
    "    onsset[\"ResidentialDemandTierCustom\"] = onsset[\"tot_dem_per_capita_2030\"]\n",
    "    \n",
    "    onsset[\"PerCapitaDemand2020\"] = onsset[\"tot_dem_per_capita_2020\"]\n",
    "    onsset[\"PerCapitaDemand2030\"] = onsset[\"tot_dem_per_capita_2030\"]\n",
    "    onsset[\"PerCapitaDemand2040\"] = onsset[\"tot_dem_per_capita_2040\"]\n",
    "    onsset[\"PerCapitaDemand2050\"] = onsset[\"tot_dem_per_capita_2050\"]\n",
    "    onsset[\"PerCapitaDemand2060\"] = onsset[\"tot_dem_per_capita_2060\"]\n",
    "    \n",
    "    onsset[\"NumPeoplePerHH\"] = 5\n",
    "    onsset.NumPeoplePerHH.mask(onsset.isurban > 0, 4.7, inplace = True)\n",
    "    onsset.NumPeoplePerHH.mask(onsset.isurban == 0, 5.2, inplace = True)\n",
    "    \n",
    "    onsset.Pop = onsset.population_2020\n",
    "    \n",
    "    onsset[\"Pop2020\"] = onsset.population_2020\n",
    "    onsset[\"Pop2030\"] = onsset.population_2030\n",
    "    onsset[\"Pop2040\"] = onsset.population_2040\n",
    "    onsset[\"Pop2050\"] = onsset.population_2050\n",
    "    onsset[\"Pop2060\"] = onsset.population_2060\n",
    "    \n",
    "    onsset.to_csv(os.path.join(output_directory_for_onsset, \"zambia_onsset_input_mled_demands_\"+ str(mled_scenario) + \".csv\"), index = False) \n",
    "    "
   ]
  },
  {
   "cell_type": "code",
   "execution_count": null,
   "id": "42adb281-b4c0-4074-ad2d-c7db1057b994",
   "metadata": {},
   "outputs": [],
   "source": []
  }
 ],
 "metadata": {
  "kernelspec": {
   "display_name": "Python [conda env:gep_onsset_env]",
   "language": "python",
   "name": "conda-env-gep_onsset_env-py"
  },
  "language_info": {
   "codemirror_mode": {
    "name": "ipython",
    "version": 3
   },
   "file_extension": ".py",
   "mimetype": "text/x-python",
   "name": "python",
   "nbconvert_exporter": "python",
   "pygments_lexer": "ipython3",
   "version": "3.9.16"
  }
 },
 "nbformat": 4,
 "nbformat_minor": 5
}
